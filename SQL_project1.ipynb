{
 "cells": [
  {
   "cell_type": "code",
   "execution_count": 1,
   "id": "a2f60db5-5129-44f0-a116-296e67560b83",
   "metadata": {},
   "outputs": [],
   "source": [
    "!mysql < sakila-database.sql"
   ]
  },
  {
   "cell_type": "code",
   "execution_count": 2,
   "id": "b7b5e20c-02af-4e3b-8bd7-cf57ad10d050",
   "metadata": {},
   "outputs": [],
   "source": [
    "!mysql <  sakila-data.sql"
   ]
  },
  {
   "cell_type": "code",
   "execution_count": 5,
   "id": "1a7850c2-5d04-45fe-be4b-1936fded3b27",
   "metadata": {},
   "outputs": [
    {
     "name": "stdout",
     "output_type": "stream",
     "text": [
      "+----------+\n",
      "| COUNT(*) |\n",
      "+----------+\n",
      "|      200 |\n",
      "+----------+\n"
     ]
    }
   ],
   "source": [
    "#Row count for actor\n",
    "!mysql sakila -e \"SELECT COUNT(*) FROM actor\""
   ]
  },
  {
   "cell_type": "code",
   "execution_count": 6,
   "id": "5c205912-d782-4ba5-859e-4495ca86a5ce",
   "metadata": {},
   "outputs": [
    {
     "name": "stdout",
     "output_type": "stream",
     "text": [
      "+----------+\n",
      "| COUNT(*) |\n",
      "+----------+\n",
      "|      603 |\n",
      "+----------+\n"
     ]
    }
   ],
   "source": [
    "#Row count for address\n",
    "!mysql sakila -e \"SELECT COUNT(*) FROM address\""
   ]
  },
  {
   "cell_type": "code",
   "execution_count": 7,
   "id": "f43895c5-3230-4161-aba8-67284f824eb3",
   "metadata": {},
   "outputs": [
    {
     "name": "stdout",
     "output_type": "stream",
     "text": [
      "+----------+\n",
      "| COUNT(*) |\n",
      "+----------+\n",
      "|      600 |\n",
      "+----------+\n"
     ]
    }
   ],
   "source": [
    "#Row count for city\n",
    "!mysql sakila -e \"SELECT COUNT(*) FROM city\""
   ]
  },
  {
   "cell_type": "code",
   "execution_count": 8,
   "id": "c1b45d68-f2fd-4c41-b69d-677a668df272",
   "metadata": {},
   "outputs": [
    {
     "name": "stdout",
     "output_type": "stream",
     "text": [
      "+----------+\n",
      "| COUNT(*) |\n",
      "+----------+\n",
      "|      109 |\n",
      "+----------+\n"
     ]
    }
   ],
   "source": [
    "#Row count for country\n",
    "!mysql sakila -e \"SELECT COUNT(*) FROM country\""
   ]
  },
  {
   "cell_type": "code",
   "execution_count": 9,
   "id": "ddb70100-6cc3-4abf-9c72-2ba75977cd47",
   "metadata": {},
   "outputs": [
    {
     "name": "stdout",
     "output_type": "stream",
     "text": [
      "+----------+\n",
      "| COUNT(*) |\n",
      "+----------+\n",
      "|      599 |\n",
      "+----------+\n"
     ]
    }
   ],
   "source": [
    "#Row count for customer\n",
    "!mysql sakila -e \"SELECT COUNT(*) FROM customer\""
   ]
  },
  {
   "cell_type": "code",
   "execution_count": 11,
   "id": "4d5ee515-6a7e-4ca6-b80e-dd7a18a17cb4",
   "metadata": {},
   "outputs": [
    {
     "name": "stdout",
     "output_type": "stream",
     "text": [
      "+----------+------------+--------------+---------------------+\n",
      "| actor_id | first_name | last_name    | last_update         |\n",
      "+----------+------------+--------------+---------------------+\n",
      "|        1 | PENELOPE   | GUINESS      | 2006-02-15 04:34:33 |\n",
      "|        2 | NICK       | WAHLBERG     | 2006-02-15 04:34:33 |\n",
      "|        3 | ED         | CHASE        | 2006-02-15 04:34:33 |\n",
      "|        4 | JENNIFER   | DAVIS        | 2006-02-15 04:34:33 |\n",
      "|        5 | JOHNNY     | LOLLOBRIGIDA | 2006-02-15 04:34:33 |\n",
      "|        6 | BETTE      | NICHOLSON    | 2006-02-15 04:34:33 |\n",
      "|        7 | GRACE      | MOSTEL       | 2006-02-15 04:34:33 |\n",
      "|        8 | MATTHEW    | JOHANSSON    | 2006-02-15 04:34:33 |\n",
      "|        9 | JOE        | SWANK        | 2006-02-15 04:34:33 |\n",
      "|       10 | CHRISTIAN  | GABLE        | 2006-02-15 04:34:33 |\n",
      "+----------+------------+--------------+---------------------+\n"
     ]
    }
   ],
   "source": [
    "#Sample from actor\n",
    "!mysql sakila -e \"SELECT * FROM actor LIMIT 10\""
   ]
  },
  {
   "cell_type": "code",
   "execution_count": 12,
   "id": "d75ff391-22cd-42e1-8628-ffbcf31c90ee",
   "metadata": {},
   "outputs": [
    {
     "name": "stdout",
     "output_type": "stream",
     "text": [
      "+------------+---------------------------------+----------+------------+---------+-------------+--------------+---------------------------+---------------------+\n",
      "| address_id | address                         | address2 | district   | city_id | postal_code | phone        | location                  | last_update         |\n",
      "+------------+---------------------------------+----------+------------+---------+-------------+--------------+---------------------------+---------------------+\n",
      "|          1 | 47 MySakila Drive               | NULL     | Alberta    |     300 |             |              |     \u0001\u0001   >\n",
      "2]c4\\�v\u001fۍ��H@     | 2014-09-25 22:30:27 |\n",
      "|          2 | 28 MySQL Boulevard              | NULL     | QLD        |     576 |             |              |     \u0001\u0001   �\u0010�߁$c@N��P\"�;�        | 2014-09-25 22:30:09 |\n",
      "|          3 | 23 Workhaven Lane               | NULL     | Alberta    |     300 |             | 14033335568  |     \u0001\u0001   ��\u0019hc4\\�\u001d",
      "�~p��H@       | 2014-09-25 22:30:27 |\n",
      "�4\u001f&c@B֮d\"�;�     | 2014-09-25 22:30:09 |      | NULL     | QLD        |     576 |             | 6172235589   |     \u0001\u0001   [\n",
      "|          5 | 1913 Hanoi Way                  |          | Nagasaki   |     463 | 35200       | 28303384290  |     \u0001\u0001   (�7\u000e!7`@����_�@@       | 2014-09-25 22:31:53 |\n",
      "A@       | 2014-09-25 22:34:01 |               |          | California |     449 | 17886       | 838635286649 |     \u0001\u0001   <�W��R]��`G-�\n",
      "|          7 | 692 Joliet Street               |          | Attika     |      38 | 83579       | 448477190408 |     \u0001\u0001   \u0007oY�Z�7@A\u0005Ѥ^�B@     | 2014-09-25 22:31:07 |\n",
      "|          8 | 1566 Inegl Manor                |          | Mandalay   |     349 | 53561       | 705814003527 |     \u0001\u0001   \u0006$\u0006&��W@<E�W�u5@     | 2014-09-25 22:32:18 |\n",
      "|          9 | 53 Idfu Parkway                 |          | Nantou     |     361 | 42399       | 10655648674  |     \u0001\u0001   \u001f�?�|*^@5z5@i�7@    | 2014-09-25 22:33:16 |\n",
      "|         10 | 1795 Santiago de Compostela Way |          | Texas      |     295 | 18743       | 860452626434 |     \u0001\u0001   PP/�{�X���y2��;@        | 2014-09-25 22:33:55 |\n",
      "+------------+---------------------------------+----------+------------+---------+-------------+--------------+---------------------------+---------------------+\n"
     ]
    }
   ],
   "source": [
    "#Sample from address\n",
    "!mysql sakila -e \"SELECT * FROM address LIMIT 10\""
   ]
  },
  {
   "cell_type": "code",
   "execution_count": 13,
   "id": "dbe8bbbd-49b0-4ab4-97b8-5eb137636e69",
   "metadata": {},
   "outputs": [
    {
     "name": "stdout",
     "output_type": "stream",
     "text": [
      "+---------+--------------------+------------+---------------------+\n",
      "| city_id | city               | country_id | last_update         |\n",
      "+---------+--------------------+------------+---------------------+\n",
      "|       1 | A Corua (La Corua) |         87 | 2006-02-15 04:45:25 |\n",
      "|       2 | Abha               |         82 | 2006-02-15 04:45:25 |\n",
      "|       3 | Abu Dhabi          |        101 | 2006-02-15 04:45:25 |\n",
      "|       4 | Acua               |         60 | 2006-02-15 04:45:25 |\n",
      "|       5 | Adana              |         97 | 2006-02-15 04:45:25 |\n",
      "|       6 | Addis Abeba        |         31 | 2006-02-15 04:45:25 |\n",
      "|       7 | Aden               |        107 | 2006-02-15 04:45:25 |\n",
      "|       8 | Adoni              |         44 | 2006-02-15 04:45:25 |\n",
      "|       9 | Ahmadnagar         |         44 | 2006-02-15 04:45:25 |\n",
      "|      10 | Akishima           |         50 | 2006-02-15 04:45:25 |\n",
      "+---------+--------------------+------------+---------------------+\n"
     ]
    }
   ],
   "source": [
    "#Sample from city\n",
    "!mysql sakila -e \"SELECT * FROM city LIMIT 10\""
   ]
  },
  {
   "cell_type": "code",
   "execution_count": 14,
   "id": "2afa5885-504e-43f2-a6f4-b493d919c6b0",
   "metadata": {},
   "outputs": [
    {
     "name": "stdout",
     "output_type": "stream",
     "text": [
      "+------------+----------------+---------------------+\n",
      "| country_id | country        | last_update         |\n",
      "+------------+----------------+---------------------+\n",
      "|          1 | Afghanistan    | 2006-02-15 04:44:00 |\n",
      "|          2 | Algeria        | 2006-02-15 04:44:00 |\n",
      "|          3 | American Samoa | 2006-02-15 04:44:00 |\n",
      "|          4 | Angola         | 2006-02-15 04:44:00 |\n",
      "|          5 | Anguilla       | 2006-02-15 04:44:00 |\n",
      "|          6 | Argentina      | 2006-02-15 04:44:00 |\n",
      "|          7 | Armenia        | 2006-02-15 04:44:00 |\n",
      "|          8 | Australia      | 2006-02-15 04:44:00 |\n",
      "|          9 | Austria        | 2006-02-15 04:44:00 |\n",
      "|         10 | Azerbaijan     | 2006-02-15 04:44:00 |\n",
      "+------------+----------------+---------------------+\n"
     ]
    }
   ],
   "source": [
    "#Sample from country\n",
    "!mysql sakila -e \"SELECT * FROM country LIMIT 10\""
   ]
  },
  {
   "cell_type": "code",
   "execution_count": 15,
   "id": "4517e927-e3bc-44e7-8586-94596565216c",
   "metadata": {},
   "outputs": [
    {
     "name": "stdout",
     "output_type": "stream",
     "text": [
      "+-------------+----------+------------+-----------+-------------------------------------+------------+--------+---------------------+---------------------+\n",
      "| customer_id | store_id | first_name | last_name | email                               | address_id | active | create_date         | last_update         |\n",
      "+-------------+----------+------------+-----------+-------------------------------------+------------+--------+---------------------+---------------------+\n",
      "|           1 |        1 | MARY       | SMITH     | MARY.SMITH@sakilacustomer.org       |          5 |      1 | 2006-02-14 22:04:36 | 2006-02-15 04:57:20 |\n",
      "|           2 |        1 | PATRICIA   | JOHNSON   | PATRICIA.JOHNSON@sakilacustomer.org |          6 |      1 | 2006-02-14 22:04:36 | 2006-02-15 04:57:20 |\n",
      "|           3 |        1 | LINDA      | WILLIAMS  | LINDA.WILLIAMS@sakilacustomer.org   |          7 |      1 | 2006-02-14 22:04:36 | 2006-02-15 04:57:20 |\n",
      "|           4 |        2 | BARBARA    | JONES     | BARBARA.JONES@sakilacustomer.org    |          8 |      1 | 2006-02-14 22:04:36 | 2006-02-15 04:57:20 |\n",
      "|           5 |        1 | ELIZABETH  | BROWN     | ELIZABETH.BROWN@sakilacustomer.org  |          9 |      1 | 2006-02-14 22:04:36 | 2006-02-15 04:57:20 |\n",
      "|           6 |        2 | JENNIFER   | DAVIS     | JENNIFER.DAVIS@sakilacustomer.org   |         10 |      1 | 2006-02-14 22:04:36 | 2006-02-15 04:57:20 |\n",
      "|           7 |        1 | MARIA      | MILLER    | MARIA.MILLER@sakilacustomer.org     |         11 |      1 | 2006-02-14 22:04:36 | 2006-02-15 04:57:20 |\n",
      "|           8 |        2 | SUSAN      | WILSON    | SUSAN.WILSON@sakilacustomer.org     |         12 |      1 | 2006-02-14 22:04:36 | 2006-02-15 04:57:20 |\n",
      "|           9 |        2 | MARGARET   | MOORE     | MARGARET.MOORE@sakilacustomer.org   |         13 |      1 | 2006-02-14 22:04:36 | 2006-02-15 04:57:20 |\n",
      "|          10 |        1 | DOROTHY    | TAYLOR    | DOROTHY.TAYLOR@sakilacustomer.org   |         14 |      1 | 2006-02-14 22:04:36 | 2006-02-15 04:57:20 |\n",
      "+-------------+----------+------------+-----------+-------------------------------------+------------+--------+---------------------+---------------------+\n"
     ]
    }
   ],
   "source": [
    "#Sample from customer\n",
    "!mysql sakila -e \"SELECT * FROM customer LIMIT 10\""
   ]
  },
  {
   "cell_type": "code",
   "execution_count": 24,
   "id": "e894fac2-fb52-4d6f-a768-bdb479163780",
   "metadata": {},
   "outputs": [
    {
     "name": "stdout",
     "output_type": "stream",
     "text": [
      "+----------------------------------+------------+\n",
      "| country                          | country_id |\n",
      "+----------------------------------+------------+\n",
      "| Zambia                           |        109 |\n",
      "| Yugoslavia                       |        108 |\n",
      "| Yemen                            |        107 |\n",
      "| Virgin Islands, U.S.             |        106 |\n",
      "| Vietnam                          |        105 |\n",
      "| Venezuela                        |        104 |\n",
      "| United States                    |        103 |\n",
      "| United Kingdom                   |        102 |\n",
      "| United Arab Emirates             |        101 |\n",
      "| Ukraine                          |        100 |\n",
      "| Tuvalu                           |         99 |\n",
      "| Turkmenistan                     |         98 |\n",
      "| Turkey                           |         97 |\n",
      "| Tunisia                          |         96 |\n",
      "| Tonga                            |         95 |\n",
      "| Thailand                         |         94 |\n",
      "| Tanzania                         |         93 |\n",
      "| Taiwan                           |         92 |\n",
      "| Switzerland                      |         91 |\n",
      "| Sweden                           |         90 |\n",
      "| Sudan                            |         89 |\n",
      "| Sri Lanka                        |         88 |\n",
      "| Spain                            |         87 |\n",
      "| South Korea                      |         86 |\n",
      "| South Africa                     |         85 |\n",
      "| Slovakia                         |         84 |\n",
      "| Senegal                          |         83 |\n",
      "| Saudi Arabia                     |         82 |\n",
      "| Saint Vincent and the Grenadines |         81 |\n",
      "+----------------------------------+------------+\n"
     ]
    }
   ],
   "source": [
    "# Order Countries that have country_id greater than 80 in descending order of country_id\n",
    "!mysql sakila -e \"SELECT country, country_id FROM country WHERE country_id > 80 ORDER BY country_id DESC\""
   ]
  },
  {
   "cell_type": "code",
   "execution_count": 26,
   "id": "324d8ac2-7bc3-4cab-953d-57a61645a660",
   "metadata": {},
   "outputs": [],
   "source": [
    "# Insert John Doe into actor table\n",
    "!mysql sakila -e \"INSERT INTO actor ( first_name, last_name, last_update ) VALUES ( 'John', 'Doe', '2006-02-15 04:34:33')\""
   ]
  },
  {
   "cell_type": "code",
   "execution_count": 31,
   "id": "2ba75142-1bf5-4c3a-87e9-e85c3af33da6",
   "metadata": {},
   "outputs": [],
   "source": [
    "#Update John Doe and capitalize the name\n",
    "!mysql sakila -e \"UPDATE actor SET first_name = 'JOHN', last_name = 'DOE' WHERE actor_id = 201\""
   ]
  },
  {
   "cell_type": "code",
   "execution_count": 33,
   "id": "2a8b3765-3d3b-465e-90e5-c38c85d2763d",
   "metadata": {},
   "outputs": [],
   "source": [
    "#Delete JOHN DOE from actor table\n",
    "!mysql sakila -e \"DELETE FROM actor WHERE actor_id = '201'\""
   ]
  }
 ],
 "metadata": {
  "environment": {
   "kernel": "python3",
   "name": "common-cpu.m110",
   "type": "gcloud",
   "uri": "gcr.io/deeplearning-platform-release/base-cpu:m110"
  },
  "kernelspec": {
   "display_name": "Python 3",
   "language": "python",
   "name": "python3"
  },
  "language_info": {
   "codemirror_mode": {
    "name": "ipython",
    "version": 3
   },
   "file_extension": ".py",
   "mimetype": "text/x-python",
   "name": "python",
   "nbconvert_exporter": "python",
   "pygments_lexer": "ipython3",
   "version": "3.10.12"
  }
 },
 "nbformat": 4,
 "nbformat_minor": 5
}
