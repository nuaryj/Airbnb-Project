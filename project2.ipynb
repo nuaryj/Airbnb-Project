{
 "cells": [
  {
   "cell_type": "code",
   "execution_count": null,
   "id": "2f8a5f8b-576d-44c4-822e-c32176f82fdd",
   "metadata": {},
   "outputs": [
    {
     "name": "stdout",
     "output_type": "stream",
     "text": [
      "env: PGINSTANCE=ggnym0131-postgresql\n"
     ]
    }
   ],
   "source": [
    "%env PGINSTANCE=ggnym0131-postgresql"
   ]
  },
  {
   "cell_type": "code",
   "execution_count": 4,
   "id": "fce779d8-c0cb-4cb9-aed7-bded8cd791fc",
   "metadata": {},
   "outputs": [
    {
     "name": "stdout",
     "output_type": "stream",
     "text": [
      "env: BASE_DIR=/home/jupyter\n"
     ]
    }
   ],
   "source": [
    "%env BASE_DIR = /home/jupyter"
   ]
  },
  {
   "cell_type": "code",
   "execution_count": null,
   "id": "1bf591d4-b3e9-44d5-8ced-a563b51fb645",
   "metadata": {},
   "outputs": [],
   "source": [
    "!psql -c \"\\i $BASE_DIR/pagila/pagila-schema.sql\""
   ]
  },
  {
   "cell_type": "code",
   "execution_count": null,
   "id": "b6367457-b1db-4858-b530-4e65dea4d556",
   "metadata": {},
   "outputs": [],
   "source": [
    "!psql -c \"set search_path=pagila\""
   ]
  },
  {
   "cell_type": "code",
   "execution_count": 8,
   "id": "d022b197-0551-4d9a-875d-b3e04097edbc",
   "metadata": {},
   "outputs": [
    {
     "name": "stdout",
     "output_type": "stream",
     "text": [
      "                                              Table \"pagila.actor\"\n",
      "   Column    |           Type           | Collation | Nullable |                    Default                     \n",
      "-------------+--------------------------+-----------+----------+------------------------------------------------\n",
      " actor_id    | integer                  |           | not null | nextval('pagila.actor_actor_id_seq'::regclass)\n",
      " first_name  | text                     |           | not null | \n",
      " last_name   | text                     |           | not null | \n",
      " last_update | timestamp with time zone |           | not null | now()\n",
      "Indexes:\n",
      "    \"actor_pkey\" PRIMARY KEY, btree (actor_id)\n",
      "    \"idx_actor_last_name\" btree (last_name)\n",
      "Referenced by:\n",
      "    TABLE \"pagila.film_actor\" CONSTRAINT \"film_actor_actor_id_fkey\" FOREIGN KEY (actor_id) REFERENCES pagila.actor(actor_id) ON UPDATE CASCADE ON DELETE RESTRICT\n",
      "Triggers:\n",
      "    last_updated BEFORE UPDATE ON pagila.actor FOR EACH ROW EXECUTE FUNCTION pagila.last_updated()\n",
      "\n"
     ]
    }
   ],
   "source": [
    "!psql -c \"\\d pagila.actor\""
   ]
  },
  {
   "cell_type": "code",
   "execution_count": 13,
   "id": "38974a9b-2c6a-4c40-9cb9-e4540a0dc4a1",
   "metadata": {},
   "outputs": [
    {
     "name": "stdout",
     "output_type": "stream",
     "text": [
      "                                               Table \"pagila.country\"\n",
      "   Column    |           Type           | Collation | Nullable |                      Default                       \n",
      "-------------+--------------------------+-----------+----------+----------------------------------------------------\n",
      " country_id  | integer                  |           | not null | nextval('pagila.country_country_id_seq'::regclass)\n",
      " country     | text                     |           | not null | \n",
      " last_update | timestamp with time zone |           | not null | now()\n",
      "Indexes:\n",
      "    \"country_pkey\" PRIMARY KEY, btree (country_id)\n",
      "Referenced by:\n",
      "    TABLE \"pagila.city\" CONSTRAINT \"city_country_id_fkey\" FOREIGN KEY (country_id) REFERENCES pagila.country(country_id) ON UPDATE CASCADE ON DELETE RESTRICT\n",
      "Triggers:\n",
      "    last_updated BEFORE UPDATE ON pagila.country FOR EACH ROW EXECUTE FUNCTION pagila.last_updated()\n",
      "\n"
     ]
    }
   ],
   "source": [
    "!psql -c \"\\d pagila.country\""
   ]
  },
  {
   "cell_type": "code",
   "execution_count": 14,
   "id": "48c3c2f4-3a8a-47d9-957e-ba9f59e228c7",
   "metadata": {},
   "outputs": [
    {
     "name": "stdout",
     "output_type": "stream",
     "text": [
      "                                             Table \"pagila.city\"\n",
      "   Column    |           Type           | Collation | Nullable |                   Default                    \n",
      "-------------+--------------------------+-----------+----------+----------------------------------------------\n",
      " city_id     | integer                  |           | not null | nextval('pagila.city_city_id_seq'::regclass)\n",
      " city        | text                     |           | not null | \n",
      " country_id  | smallint                 |           | not null | \n",
      " last_update | timestamp with time zone |           | not null | now()\n",
      "Indexes:\n",
      "    \"city_pkey\" PRIMARY KEY, btree (city_id)\n",
      "    \"idx_fk_country_id\" btree (country_id)\n",
      "Foreign-key constraints:\n",
      "    \"city_country_id_fkey\" FOREIGN KEY (country_id) REFERENCES pagila.country(country_id) ON UPDATE CASCADE ON DELETE RESTRICT\n",
      "Referenced by:\n",
      "    TABLE \"pagila.address\" CONSTRAINT \"address_city_id_fkey\" FOREIGN KEY (city_id) REFERENCES pagila.city(city_id) ON UPDATE CASCADE ON DELETE RESTRICT\n",
      "Triggers:\n",
      "    last_updated BEFORE UPDATE ON pagila.city FOR EACH ROW EXECUTE FUNCTION pagila.last_updated()\n",
      "\n"
     ]
    }
   ],
   "source": [
    "!psql -c \"\\d pagila.city\""
   ]
  },
  {
   "cell_type": "code",
   "execution_count": 15,
   "id": "921b3ff1-5f57-422d-b7ab-a4d90e81766a",
   "metadata": {},
   "outputs": [
    {
     "name": "stdout",
     "output_type": "stream",
     "text": [
      "                                               Table \"pagila.address\"\n",
      "   Column    |           Type           | Collation | Nullable |                      Default                       \n",
      "-------------+--------------------------+-----------+----------+----------------------------------------------------\n",
      " address_id  | integer                  |           | not null | nextval('pagila.address_address_id_seq'::regclass)\n",
      " address     | text                     |           | not null | \n",
      " address2    | text                     |           |          | \n",
      " district    | text                     |           | not null | \n",
      " city_id     | smallint                 |           | not null | \n",
      " postal_code | text                     |           |          | \n",
      " phone       | text                     |           | not null | \n",
      " last_update | timestamp with time zone |           | not null | now()\n",
      "Indexes:\n",
      "    \"address_pkey\" PRIMARY KEY, btree (address_id)\n",
      "    \"idx_fk_city_id\" btree (city_id)\n",
      "Foreign-key constraints:\n",
      "    \"address_city_id_fkey\" FOREIGN KEY (city_id) REFERENCES pagila.city(city_id) ON UPDATE CASCADE ON DELETE RESTRICT\n",
      "Referenced by:\n",
      "    TABLE \"pagila.customer\" CONSTRAINT \"customer_address_id_fkey\" FOREIGN KEY (address_id) REFERENCES pagila.address(address_id) ON UPDATE CASCADE ON DELETE RESTRICT\n",
      "    TABLE \"pagila.staff\" CONSTRAINT \"staff_address_id_fkey\" FOREIGN KEY (address_id) REFERENCES pagila.address(address_id) ON UPDATE CASCADE ON DELETE RESTRICT\n",
      "    TABLE \"pagila.store\" CONSTRAINT \"store_address_id_fkey\" FOREIGN KEY (address_id) REFERENCES pagila.address(address_id) ON UPDATE CASCADE ON DELETE RESTRICT\n",
      "Triggers:\n",
      "    last_updated BEFORE UPDATE ON pagila.address FOR EACH ROW EXECUTE FUNCTION pagila.last_updated()\n",
      "\n"
     ]
    }
   ],
   "source": [
    "!psql -c \"\\d pagila.address\""
   ]
  },
  {
   "cell_type": "code",
   "execution_count": 16,
   "id": "1e8c93e5-a597-4daf-a900-2b9825d3d207",
   "metadata": {},
   "outputs": [
    {
     "name": "stdout",
     "output_type": "stream",
     "text": [
      "                                                Table \"pagila.customer\"\n",
      "   Column    |           Type           | Collation | Nullable |                        Default                        \n",
      "-------------+--------------------------+-----------+----------+-------------------------------------------------------\n",
      " customer_id | integer                  |           | not null | nextval('pagila.customer_customer_id_seq1'::regclass)\n",
      " store_id    | smallint                 |           | not null | \n",
      " first_name  | text                     |           | not null | \n",
      " last_name   | text                     |           | not null | \n",
      " email       | text                     |           |          | \n",
      " address_id  | smallint                 |           | not null | \n",
      " activebool  | boolean                  |           | not null | true\n",
      " create_date | date                     |           | not null | 'now'::text::date\n",
      " last_update | timestamp with time zone |           |          | now()\n",
      " active      | integer                  |           |          | \n",
      "Indexes:\n",
      "    \"customer_pkey\" PRIMARY KEY, btree (customer_id)\n",
      "    \"idx_fk_address_id\" btree (address_id)\n",
      "    \"idx_fk_store_id\" btree (store_id)\n",
      "    \"idx_last_name\" btree (last_name)\n",
      "Foreign-key constraints:\n",
      "    \"customer_address_id_fkey\" FOREIGN KEY (address_id) REFERENCES pagila.address(address_id) ON UPDATE CASCADE ON DELETE RESTRICT\n",
      "    \"customer_store_id_fkey\" FOREIGN KEY (store_id) REFERENCES pagila.store(store_id) ON UPDATE CASCADE ON DELETE RESTRICT\n",
      "Referenced by:\n",
      "    TABLE \"pagila.payment\" CONSTRAINT \"customer_id_fkey\" FOREIGN KEY (customer_id) REFERENCES pagila.customer(customer_id) ON UPDATE CASCADE ON DELETE RESTRICT\n",
      "    TABLE \"pagila.rental\" CONSTRAINT \"rental_customer_id_fkey\" FOREIGN KEY (customer_id) REFERENCES pagila.customer(customer_id) ON UPDATE CASCADE ON DELETE RESTRICT\n",
      "Triggers:\n",
      "    last_updated BEFORE UPDATE ON pagila.customer FOR EACH ROW EXECUTE FUNCTION pagila.last_updated()\n",
      "\n"
     ]
    }
   ],
   "source": [
    "!psql -c \"\\d pagila.customer\""
   ]
  },
  {
   "cell_type": "code",
   "execution_count": 17,
   "id": "9565dd6e-1234-4c07-8df9-55b71dabb358",
   "metadata": {},
   "outputs": [
    {
     "name": "stdout",
     "output_type": "stream",
     "text": [
      "                                                  Table \"pagila.film\"\n",
      "        Column        |           Type           | Collation | Nullable |                   Default                    \n",
      "----------------------+--------------------------+-----------+----------+----------------------------------------------\n",
      " film_id              | integer                  |           | not null | nextval('pagila.film_film_id_seq'::regclass)\n",
      " title                | text                     |           | not null | \n",
      " description          | text                     |           |          | \n",
      " release_year         | pagila.year              |           |          | \n",
      " language_id          | smallint                 |           | not null | \n",
      " original_language_id | smallint                 |           |          | \n",
      " rental_duration      | smallint                 |           | not null | 3\n",
      " rental_rate          | numeric(4,2)             |           | not null | 4.99\n",
      " length               | smallint                 |           |          | \n",
      " replacement_cost     | numeric(5,2)             |           | not null | 19.99\n",
      " rating               | pagila.mpaa_rating       |           |          | 'G'::pagila.mpaa_rating\n",
      " last_update          | timestamp with time zone |           | not null | now()\n",
      " special_features     | text[]                   |           |          | \n",
      " fulltext             | tsvector                 |           | not null | \n",
      "Indexes:\n",
      "    \"film_pkey\" PRIMARY KEY, btree (film_id)\n",
      "    \"film_fulltext_idx\" gist (fulltext)\n",
      "    \"idx_fk_language_id\" btree (language_id)\n",
      "    \"idx_fk_original_language_id\" btree (original_language_id)\n",
      "    \"idx_title\" btree (title)\n",
      "Foreign-key constraints:\n",
      "    \"film_language_id_fkey\" FOREIGN KEY (language_id) REFERENCES pagila.language(language_id) ON UPDATE CASCADE ON DELETE RESTRICT\n",
      "    \"film_original_language_id_fkey\" FOREIGN KEY (original_language_id) REFERENCES pagila.language(language_id) ON UPDATE CASCADE ON DELETE RESTRICT\n",
      "Referenced by:\n",
      "    TABLE \"pagila.film_actor\" CONSTRAINT \"film_actor_film_id_fkey\" FOREIGN KEY (film_id) REFERENCES pagila.film(film_id) ON UPDATE CASCADE ON DELETE RESTRICT\n",
      "    TABLE \"pagila.film_category\" CONSTRAINT \"film_category_film_id_fkey\" FOREIGN KEY (film_id) REFERENCES pagila.film(film_id) ON UPDATE CASCADE ON DELETE RESTRICT\n",
      "    TABLE \"pagila.inventory\" CONSTRAINT \"inventory_film_id_fkey\" FOREIGN KEY (film_id) REFERENCES pagila.film(film_id) ON UPDATE CASCADE ON DELETE RESTRICT\n",
      "Triggers:\n",
      "    film_fulltext_trigger BEFORE INSERT OR UPDATE ON pagila.film FOR EACH ROW EXECUTE FUNCTION tsvector_update_trigger('fulltext', 'pg_catalog.english', 'title', 'description')\n",
      "    last_updated BEFORE UPDATE ON pagila.film FOR EACH ROW EXECUTE FUNCTION pagila.last_updated()\n",
      "\n"
     ]
    }
   ],
   "source": [
    "!psql -c \"\\d pagila.film\""
   ]
  },
  {
   "cell_type": "code",
   "execution_count": 18,
   "id": "69532e02-622d-4c6b-a796-f54475cb6484",
   "metadata": {},
   "outputs": [
    {
     "name": "stdout",
     "output_type": "stream",
     "text": [
      "                        Table \"pagila.film_actor\"\n",
      "   Column    |           Type           | Collation | Nullable | Default \n",
      "-------------+--------------------------+-----------+----------+---------\n",
      " actor_id    | smallint                 |           | not null | \n",
      " film_id     | smallint                 |           | not null | \n",
      " last_update | timestamp with time zone |           | not null | now()\n",
      "Indexes:\n",
      "    \"film_actor_pkey\" PRIMARY KEY, btree (actor_id, film_id)\n",
      "    \"idx_fk_film_id\" btree (film_id)\n",
      "Foreign-key constraints:\n",
      "    \"film_actor_actor_id_fkey\" FOREIGN KEY (actor_id) REFERENCES pagila.actor(actor_id) ON UPDATE CASCADE ON DELETE RESTRICT\n",
      "    \"film_actor_film_id_fkey\" FOREIGN KEY (film_id) REFERENCES pagila.film(film_id) ON UPDATE CASCADE ON DELETE RESTRICT\n",
      "Triggers:\n",
      "    last_updated BEFORE UPDATE ON pagila.film_actor FOR EACH ROW EXECUTE FUNCTION pagila.last_updated()\n",
      "\n"
     ]
    }
   ],
   "source": [
    "!psql -c \"\\d pagila.film_actor\""
   ]
  },
  {
   "cell_type": "code",
   "execution_count": 19,
   "id": "9280f377-c107-40cd-88c7-ea6cd302f4b4",
   "metadata": {},
   "outputs": [
    {
     "name": "stdout",
     "output_type": "stream",
     "text": [
      "                      Table \"pagila.film_category\"\n",
      "   Column    |           Type           | Collation | Nullable | Default \n",
      "-------------+--------------------------+-----------+----------+---------\n",
      " film_id     | smallint                 |           | not null | \n",
      " category_id | smallint                 |           | not null | \n",
      " last_update | timestamp with time zone |           | not null | now()\n",
      "Indexes:\n",
      "    \"film_category_pkey\" PRIMARY KEY, btree (film_id, category_id)\n",
      "Foreign-key constraints:\n",
      "    \"film_category_category_id_fkey\" FOREIGN KEY (category_id) REFERENCES pagila.category(category_id) ON UPDATE CASCADE ON DELETE RESTRICT\n",
      "    \"film_category_film_id_fkey\" FOREIGN KEY (film_id) REFERENCES pagila.film(film_id) ON UPDATE CASCADE ON DELETE RESTRICT\n",
      "Triggers:\n",
      "    last_updated BEFORE UPDATE ON pagila.film_category FOR EACH ROW EXECUTE FUNCTION pagila.last_updated()\n",
      "\n"
     ]
    }
   ],
   "source": [
    "!psql -c \"\\d pagila.film_category\""
   ]
  },
  {
   "cell_type": "code",
   "execution_count": 20,
   "id": "26caf1c3-8f5b-4e74-9f31-11d3da481ac5",
   "metadata": {},
   "outputs": [
    {
     "name": "stdout",
     "output_type": "stream",
     "text": [
      "                                                Table \"pagila.inventory\"\n",
      "    Column    |           Type           | Collation | Nullable |                        Default                         \n",
      "--------------+--------------------------+-----------+----------+--------------------------------------------------------\n",
      " inventory_id | integer                  |           | not null | nextval('pagila.inventory_inventory_id_seq'::regclass)\n",
      " film_id      | smallint                 |           | not null | \n",
      " store_id     | smallint                 |           | not null | \n",
      " last_update  | timestamp with time zone |           | not null | now()\n",
      "Indexes:\n",
      "    \"inventory_pkey\" PRIMARY KEY, btree (inventory_id)\n",
      "    \"idx_store_id_film_id\" btree (store_id, film_id)\n",
      "Foreign-key constraints:\n",
      "    \"inventory_film_id_fkey\" FOREIGN KEY (film_id) REFERENCES pagila.film(film_id) ON UPDATE CASCADE ON DELETE RESTRICT\n",
      "    \"inventory_store_id_fkey\" FOREIGN KEY (store_id) REFERENCES pagila.store(store_id) ON UPDATE CASCADE ON DELETE RESTRICT\n",
      "Referenced by:\n",
      "    TABLE \"pagila.rental\" CONSTRAINT \"rental_inventory_id_fkey\" FOREIGN KEY (inventory_id) REFERENCES pagila.inventory(inventory_id) ON UPDATE CASCADE ON DELETE RESTRICT\n",
      "Triggers:\n",
      "    last_updated BEFORE UPDATE ON pagila.inventory FOR EACH ROW EXECUTE FUNCTION pagila.last_updated()\n",
      "\n"
     ]
    }
   ],
   "source": [
    "!psql -c \"\\d pagila.inventory\""
   ]
  },
  {
   "cell_type": "code",
   "execution_count": 21,
   "id": "bf47c565-0799-40c2-a34d-c6803ac3cc6d",
   "metadata": {},
   "outputs": [
    {
     "name": "stdout",
     "output_type": "stream",
     "text": [
      "                                               Table \"pagila.language\"\n",
      "   Column    |           Type           | Collation | Nullable |                       Default                        \n",
      "-------------+--------------------------+-----------+----------+------------------------------------------------------\n",
      " language_id | integer                  |           | not null | nextval('pagila.language_language_id_seq'::regclass)\n",
      " name        | character(20)            |           | not null | \n",
      " last_update | timestamp with time zone |           | not null | now()\n",
      "Indexes:\n",
      "    \"language_pkey\" PRIMARY KEY, btree (language_id)\n",
      "Referenced by:\n",
      "    TABLE \"pagila.film\" CONSTRAINT \"film_language_id_fkey\" FOREIGN KEY (language_id) REFERENCES pagila.language(language_id) ON UPDATE CASCADE ON DELETE RESTRICT\n",
      "    TABLE \"pagila.film\" CONSTRAINT \"film_original_language_id_fkey\" FOREIGN KEY (original_language_id) REFERENCES pagila.language(language_id) ON UPDATE CASCADE ON DELETE RESTRICT\n",
      "Triggers:\n",
      "    last_updated BEFORE UPDATE ON pagila.language FOR EACH ROW EXECUTE FUNCTION pagila.last_updated()\n",
      "\n"
     ]
    }
   ],
   "source": [
    "!psql -c \"\\d pagila.language\""
   ]
  },
  {
   "cell_type": "code",
   "execution_count": 1,
   "id": "7a3f16ff-cd3b-40ca-a073-d957afb5ea26",
   "metadata": {},
   "outputs": [
    {
     "name": "stdout",
     "output_type": "stream",
     "text": [
      "                                               Table \"pagila.payment\"\n",
      "    Column    |           Type           | Collation | Nullable |                      Default                       \n",
      "--------------+--------------------------+-----------+----------+----------------------------------------------------\n",
      " payment_id   | integer                  |           | not null | nextval('pagila.payment_payment_id_seq'::regclass)\n",
      " customer_id  | smallint                 |           | not null | \n",
      " staff_id     | smallint                 |           | not null | \n",
      " rental_id    | integer                  |           | not null | \n",
      " amount       | numeric(5,2)             |           | not null | \n",
      " payment_date | timestamp with time zone |           | not null | \n",
      "Indexes:\n",
      "    \"payment_pkey\" PRIMARY KEY, btree (payment_id)\n",
      "    \"idx_fk_customer_id\" btree (customer_id)\n",
      "    \"idx_fk_staff_id\" btree (staff_id)\n",
      "Foreign-key constraints:\n",
      "    \"customer_id_fkey\" FOREIGN KEY (customer_id) REFERENCES pagila.customer(customer_id) ON UPDATE CASCADE ON DELETE RESTRICT\n",
      "    \"rental_id_fkey\" FOREIGN KEY (rental_id) REFERENCES pagila.rental(rental_id) ON UPDATE CASCADE ON DELETE RESTRICT\n",
      "    \"staff_id_fkey\" FOREIGN KEY (staff_id) REFERENCES pagila.staff(staff_id) ON UPDATE CASCADE ON DELETE RESTRICT\n",
      "\n"
     ]
    }
   ],
   "source": [
    "!psql -c \"\\d pagila.payment\""
   ]
  },
  {
   "cell_type": "code",
   "execution_count": 2,
   "id": "f3b030f6-f1bf-4913-b073-0cb404e95729",
   "metadata": {},
   "outputs": [
    {
     "name": "stdout",
     "output_type": "stream",
     "text": [
      "                                               Table \"pagila.rental\"\n",
      "    Column    |           Type           | Collation | Nullable |                     Default                      \n",
      "--------------+--------------------------+-----------+----------+--------------------------------------------------\n",
      " rental_id    | integer                  |           | not null | nextval('pagila.rental_rental_id_seq'::regclass)\n",
      " rental_date  | timestamp with time zone |           | not null | \n",
      " inventory_id | integer                  |           | not null | \n",
      " customer_id  | smallint                 |           | not null | \n",
      " return_date  | timestamp with time zone |           |          | \n",
      " staff_id     | smallint                 |           | not null | \n",
      " last_update  | timestamp with time zone |           | not null | now()\n",
      "Indexes:\n",
      "    \"rental_pkey\" PRIMARY KEY, btree (rental_id)\n",
      "    \"idx_fk_inventory_id\" btree (inventory_id)\n",
      "    \"idx_unq_rental_rental_date_inventory_id_customer_id\" UNIQUE, btree (rental_date, inventory_id, customer_id)\n",
      "Foreign-key constraints:\n",
      "    \"rental_customer_id_fkey\" FOREIGN KEY (customer_id) REFERENCES pagila.customer(customer_id) ON UPDATE CASCADE ON DELETE RESTRICT\n",
      "    \"rental_inventory_id_fkey\" FOREIGN KEY (inventory_id) REFERENCES pagila.inventory(inventory_id) ON UPDATE CASCADE ON DELETE RESTRICT\n",
      "    \"rental_staff_id_fkey\" FOREIGN KEY (staff_id) REFERENCES pagila.staff(staff_id) ON UPDATE CASCADE ON DELETE RESTRICT\n",
      "Referenced by:\n",
      "    TABLE \"pagila.payment\" CONSTRAINT \"rental_id_fkey\" FOREIGN KEY (rental_id) REFERENCES pagila.rental(rental_id) ON UPDATE CASCADE ON DELETE RESTRICT\n",
      "Triggers:\n",
      "    last_updated BEFORE UPDATE ON pagila.rental FOR EACH ROW EXECUTE FUNCTION pagila.last_updated()\n",
      "\n"
     ]
    }
   ],
   "source": [
    "!psql -c \"\\d pagila.rental\""
   ]
  },
  {
   "cell_type": "code",
   "execution_count": 3,
   "id": "decf89c7-555e-4d57-9885-0d888c605754",
   "metadata": {},
   "outputs": [
    {
     "name": "stdout",
     "output_type": "stream",
     "text": [
      "                                              Table \"pagila.staff\"\n",
      "   Column    |           Type           | Collation | Nullable |                    Default                     \n",
      "-------------+--------------------------+-----------+----------+------------------------------------------------\n",
      " staff_id    | integer                  |           | not null | nextval('pagila.staff_staff_id_seq'::regclass)\n",
      " first_name  | text                     |           | not null | \n",
      " last_name   | text                     |           | not null | \n",
      " address_id  | smallint                 |           | not null | \n",
      " email       | text                     |           |          | \n",
      " store_id    | smallint                 |           | not null | \n",
      " active      | boolean                  |           | not null | true\n",
      " username    | text                     |           | not null | \n",
      " password    | text                     |           |          | \n",
      " last_update | timestamp with time zone |           | not null | now()\n",
      " picture     | bytea                    |           |          | \n",
      "Indexes:\n",
      "    \"staff_pkey\" PRIMARY KEY, btree (staff_id)\n",
      "Foreign-key constraints:\n",
      "    \"staff_address_id_fkey\" FOREIGN KEY (address_id) REFERENCES pagila.address(address_id) ON UPDATE CASCADE ON DELETE RESTRICT\n",
      "    \"staff_store_id_fkey\" FOREIGN KEY (store_id) REFERENCES pagila.store(store_id)\n",
      "Referenced by:\n",
      "    TABLE \"pagila.rental\" CONSTRAINT \"rental_staff_id_fkey\" FOREIGN KEY (staff_id) REFERENCES pagila.staff(staff_id) ON UPDATE CASCADE ON DELETE RESTRICT\n",
      "    TABLE \"pagila.payment\" CONSTRAINT \"staff_id_fkey\" FOREIGN KEY (staff_id) REFERENCES pagila.staff(staff_id) ON UPDATE CASCADE ON DELETE RESTRICT\n",
      "Triggers:\n",
      "    last_updated BEFORE UPDATE ON pagila.staff FOR EACH ROW EXECUTE FUNCTION pagila.last_updated()\n",
      "\n"
     ]
    }
   ],
   "source": [
    "!psql -c \"\\d pagila.staff\""
   ]
  },
  {
   "cell_type": "code",
   "execution_count": 4,
   "id": "6ad31c12-a502-4472-a503-e795636d0adc",
   "metadata": {},
   "outputs": [
    {
     "name": "stdout",
     "output_type": "stream",
     "text": [
      "                                                Table \"pagila.store\"\n",
      "      Column      |           Type           | Collation | Nullable |                    Default                     \n",
      "------------------+--------------------------+-----------+----------+------------------------------------------------\n",
      " store_id         | integer                  |           | not null | nextval('pagila.store_store_id_seq'::regclass)\n",
      " manager_staff_id | smallint                 |           | not null | \n",
      " address_id       | smallint                 |           | not null | \n",
      " last_update      | timestamp with time zone |           | not null | now()\n",
      "Indexes:\n",
      "    \"store_pkey\" PRIMARY KEY, btree (store_id)\n",
      "    \"idx_unq_manager_staff_id\" UNIQUE, btree (manager_staff_id)\n",
      "Foreign-key constraints:\n",
      "    \"store_address_id_fkey\" FOREIGN KEY (address_id) REFERENCES pagila.address(address_id) ON UPDATE CASCADE ON DELETE RESTRICT\n",
      "Referenced by:\n",
      "    TABLE \"pagila.customer\" CONSTRAINT \"customer_store_id_fkey\" FOREIGN KEY (store_id) REFERENCES pagila.store(store_id) ON UPDATE CASCADE ON DELETE RESTRICT\n",
      "    TABLE \"pagila.inventory\" CONSTRAINT \"inventory_store_id_fkey\" FOREIGN KEY (store_id) REFERENCES pagila.store(store_id) ON UPDATE CASCADE ON DELETE RESTRICT\n",
      "    TABLE \"pagila.staff\" CONSTRAINT \"staff_store_id_fkey\" FOREIGN KEY (store_id) REFERENCES pagila.store(store_id)\n",
      "Triggers:\n",
      "    last_updated BEFORE UPDATE ON pagila.store FOR EACH ROW EXECUTE FUNCTION pagila.last_updated()\n",
      "\n"
     ]
    }
   ],
   "source": [
    "!psql -c \"\\d pagila.store\""
   ]
  },
  {
   "cell_type": "code",
   "execution_count": 5,
   "id": "de47a859-5f42-4f99-9ae5-99837ec63456",
   "metadata": {},
   "outputs": [
    {
     "name": "stdout",
     "output_type": "stream",
     "text": [
      "                                               Table \"pagila.category\"\n",
      "   Column    |           Type           | Collation | Nullable |                       Default                        \n",
      "-------------+--------------------------+-----------+----------+------------------------------------------------------\n",
      " category_id | integer                  |           | not null | nextval('pagila.category_category_id_seq'::regclass)\n",
      " name        | text                     |           | not null | \n",
      " last_update | timestamp with time zone |           | not null | now()\n",
      "Indexes:\n",
      "    \"category_pkey\" PRIMARY KEY, btree (category_id)\n",
      "Referenced by:\n",
      "    TABLE \"pagila.film_category\" CONSTRAINT \"film_category_category_id_fkey\" FOREIGN KEY (category_id) REFERENCES pagila.category(category_id) ON UPDATE CASCADE ON DELETE RESTRICT\n",
      "Triggers:\n",
      "    last_updated BEFORE UPDATE ON pagila.category FOR EACH ROW EXECUTE FUNCTION pagila.last_updated()\n",
      "\n"
     ]
    }
   ],
   "source": [
    "!psql -c \"\\d pagila.category\""
   ]
  },
  {
   "cell_type": "code",
   "execution_count": 20,
   "id": "65c35a29-6546-48d5-8b58-82cc1fca3cb7",
   "metadata": {},
   "outputs": [
    {
     "name": "stdout",
     "output_type": "stream",
     "text": [
      " first_name | last_name |       title        | rental_rate \n",
      "------------+-----------+--------------------+-------------\n",
      " PENELOPE   | GUINESS   | KING EVOLUTION     |        4.99\n",
      " PENELOPE   | GUINESS   | LADY STAGE         |        4.99\n",
      " PENELOPE   | GUINESS   | RULES HUMAN        |        4.99\n",
      " PENELOPE   | GUINESS   | WIZARD COLDBLOODED |        4.99\n",
      " NICK       | WAHLBERG  | APACHE DIVINE      |        4.99\n",
      " NICK       | WAHLBERG  | BABY HALL          |        4.99\n",
      " NICK       | WAHLBERG  | CHISUM BEHAVIOR    |        4.99\n",
      " NICK       | WAHLBERG  | DESTINY SATURDAY   |        4.99\n",
      " NICK       | WAHLBERG  | FLASH WARS         |        4.99\n",
      " PENELOPE   | GUINESS   | ELEPHANT TROJAN    |        4.99\n",
      "(10 rows)\n",
      "\n"
     ]
    }
   ],
   "source": [
    "#Actor and film that were released later than 2018 ordered by the year\n",
    "!psql -c \"SELECT first_name, last_name, title, rental_rate FROM pagila.actor a INNER JOIN pagila.film_actor fa ON fa.actor_id = a.actor_id INNER JOIN pagila.film f ON f.film_id = fa.film_id WHERE rental_rate > 4 ORDER BY release_year LIMIT 10\""
   ]
  },
  {
   "cell_type": "code",
   "execution_count": 25,
   "id": "a6563296-20e9-4782-9a37-70583153b208",
   "metadata": {},
   "outputs": [
    {
     "name": "stdout",
     "output_type": "stream",
     "text": [
      " first_name | last_name  |      title      \n",
      "------------+------------+-----------------\n",
      " JESSIE     | BANKS      | ALAMO VIDEOTAPE\n",
      " TRACEY     | BARRETT    | ALAMO VIDEOTAPE\n",
      " REGINA     | BERRY      | ALAMO VIDEOTAPE\n",
      " TED        | BREAUX     | ALAMO VIDEOTAPE\n",
      " GLORIA     | COOK       | ALAMO VIDEOTAPE\n",
      " ALLAN      | CORNISH    | ALAMO VIDEOTAPE\n",
      " GARY       | COY        | ALAMO VIDEOTAPE\n",
      " KIM        | CRUZ       | ALAMO VIDEOTAPE\n",
      " GRACE      | ELLIS      | ALAMO VIDEOTAPE\n",
      " JACK       | FOUST      | ALAMO VIDEOTAPE\n",
      " VICTORIA   | GIBSON     | ALAMO VIDEOTAPE\n",
      " DUSTIN     | GILLETTE   | ALAMO VIDEOTAPE\n",
      " KENNETH    | GOODEN     | ALAMO VIDEOTAPE\n",
      " VIOLA      | HANSON     | ALAMO VIDEOTAPE\n",
      " VIOLA      | HANSON     | ALAMO VIDEOTAPE\n",
      " LEE        | HAWKS      | ALAMO VIDEOTAPE\n",
      " BARBARA    | JONES      | ALAMO VIDEOTAPE\n",
      " DENISE     | KELLY      | ALAMO VIDEOTAPE\n",
      " LILLIE     | KIM        | ALAMO VIDEOTAPE\n",
      " LOUIS      | LEONE      | ALAMO VIDEOTAPE\n",
      " RALPH      | MADRIGAL   | ALAMO VIDEOTAPE\n",
      " MARILYN    | ROSS       | ALAMO VIDEOTAPE\n",
      " RUBY       | WASHINGTON | ALAMO VIDEOTAPE\n",
      " MARVIN     | YEE        | ALAMO VIDEOTAPE\n",
      "(24 rows)\n",
      "\n"
     ]
    }
   ],
   "source": [
    "#Name of the person who rented ALAMO VIDEOTAPE ordered by last name\n",
    "!psql -c \"SELECT first_name, last_name, title FROM pagila.customer c INNER JOIN pagila.rental r ON r.customer_id = c.customer_id INNER JOIN pagila.inventory i ON i.inventory_id = r.inventory_id INNER JOIN pagila.film f ON f.film_id = i.film_id WHERE title = 'ALAMO VIDEOTAPE' ORDER BY last_name\""
   ]
  },
  {
   "cell_type": "code",
   "execution_count": 31,
   "id": "ab1da433-f98b-4f87-a778-353d9edd0182",
   "metadata": {},
   "outputs": [
    {
     "name": "stdout",
     "output_type": "stream",
     "text": [
      " first_name | last_name |     address      \n",
      "------------+-----------+------------------\n",
      " MARY       | SMITH     | 1913 Hanoi Way\n",
      " MARY       | SMITH     | 1913 Hanoi Way\n",
      " MARY       | SMITH     | 1913 Hanoi Way\n",
      " MARY       | SMITH     | 1913 Hanoi Way\n",
      " MARY       | SMITH     | 1913 Hanoi Way\n",
      " MARY       | SMITH     | 1913 Hanoi Way\n",
      " MARY       | SMITH     | 1913 Hanoi Way\n",
      " MARY       | SMITH     | 1913 Hanoi Way\n",
      " MARY       | SMITH     | 1913 Hanoi Way\n",
      " MARY       | SMITH     | 1913 Hanoi Way\n",
      " MARY       | SMITH     | 1913 Hanoi Way\n",
      " MARY       | SMITH     | 1913 Hanoi Way\n",
      " MARY       | SMITH     | 1913 Hanoi Way\n",
      " MARY       | SMITH     | 1913 Hanoi Way\n",
      " PATRICIA   | JOHNSON   | 1121 Loja Avenue\n",
      " PATRICIA   | JOHNSON   | 1121 Loja Avenue\n",
      " PATRICIA   | JOHNSON   | 1121 Loja Avenue\n",
      " PATRICIA   | JOHNSON   | 1121 Loja Avenue\n",
      " PATRICIA   | JOHNSON   | 1121 Loja Avenue\n",
      " PATRICIA   | JOHNSON   | 1121 Loja Avenue\n",
      "(20 rows)\n",
      "\n"
     ]
    }
   ],
   "source": [
    "#Name and Address of the people who payed more than $4 on a rental ordered by customer id\n",
    "!psql -c \"SELECT first_name, last_name, address FROM pagila.address a INNER JOIN pagila.customer c ON c.address_id = a.address_id INNER JOIN pagila.rental r ON r.customer_id = c.customer_id INNER JOIN pagila.payment p ON p.rental_id = r.rental_id WHERE amount > 4 ORDER BY c.customer_id LIMIT 20\""
   ]
  },
  {
   "cell_type": "code",
   "execution_count": 37,
   "id": "6f5b0c22-14be-4a67-a707-25c59b151527",
   "metadata": {},
   "outputs": [
    {
     "name": "stdout",
     "output_type": "stream",
     "text": [
      "       title       |  name   \n",
      "-------------------+---------\n",
      " ACE GOLDFINGER    | Horror\n",
      " AFFAIR PREJUDICE  | Horror\n",
      " AFRICAN EGG       | Family\n",
      " ALAMO VIDEOTAPE   | Foreign\n",
      " AMISTAD MIDSUMMER | New\n",
      " ANGELS LIFE       | New\n",
      " ANNIE IDENTITY    | Sci-Fi\n",
      " ARMAGEDDON LOST   | Sci-Fi\n",
      " ATLANTIS CAUSE    | Family\n",
      " AUTUMN CROW       | Games\n",
      "(10 rows)\n",
      "\n"
     ]
    }
   ],
   "source": [
    "# List the all title and the name of category if they have one where the rating is G ordered by the title\n",
    "!psql -c \"SELECT title, name FROM pagila.film f LEFT JOIN pagila.film_category fc ON fc.film_id = f.film_id LEFT JOIN pagila.category c ON c.category_id = fc.category_id WHERE rating = 'G' ORDER BY title LIMIT 10\""
   ]
  },
  {
   "cell_type": "code",
   "execution_count": 47,
   "id": "b2200fc1-3e26-4ac4-b84c-f5fd1718f731",
   "metadata": {},
   "outputs": [
    {
     "name": "stdout",
     "output_type": "stream",
     "text": [
      " first_name | last_name |      return_date       \n",
      "------------+-----------+------------------------\n",
      " CHARLOTTE  | HUNTER    | 2005-05-26 22:04:30+00\n",
      " CASSANDRA  | WALTERS   | 2005-05-29 20:34:53+00\n",
      " CRAIG      | MORRELL   | 2005-05-26 01:01:46+00\n",
      " CONSTANCE  | REID      | 2005-05-26 09:26:37+00\n",
      " CAROL      | GARCIA    | 2005-05-28 11:28:53+00\n",
      " CHESTER    | BENNER    | 2005-05-26 14:21:11+00\n",
      " CHAD       | CARBONE   | 2005-05-30 10:55:52+00\n",
      " CLARENCE   | GAMEZ     | 2005-06-01 13:56:07+00\n",
      " COURTNEY   | DAY       | 2005-06-03 10:54:07+00\n",
      " CASSANDRA  | WALTERS   | 2005-05-27 11:29:24+00\n",
      "(10 rows)\n",
      "\n"
     ]
    }
   ],
   "source": [
    "# List all the names and last names and their return date if they have one where the first name starts with a C ordered by the rental date\n",
    "!psql -c \"SELECT first_name, last_name, return_date FROM pagila.customer c LEFT JOIN pagila.rental r ON r.customer_id = c.customer_id WHERE first_name LIKE 'C%' ORDER BY rental_date LIMIT 10\""
   ]
  },
  {
   "cell_type": "code",
   "execution_count": 50,
   "id": "d78f629d-84a0-4cbb-a1b5-96bf3f1a69db",
   "metadata": {},
   "outputs": [
    {
     "name": "stdout",
     "output_type": "stream",
     "text": [
      "       title        |         name         \n",
      "--------------------+----------------------\n",
      " GROSSE WONDERFUL   | English             \n",
      " CROSSING DIVORCE   | English             \n",
      " MAGNIFICENT CHITTY | English             \n",
      " SENSE GREEK        | English             \n",
      " GO PURPLE          | English             \n",
      " AIRPORT POLLOCK    | English             \n",
      " CUPBOARD SINNERS   | English             \n",
      " CLOSER BANG        | English             \n",
      " INTERVIEW LIAISONS | English             \n",
      " JET NEIGHBORS      | English             \n",
      "(10 rows)\n",
      "\n"
     ]
    }
   ],
   "source": [
    "#lIST all the languages and the movie title if \n",
    "!psql -c \"SELECT title, name FROM pagila.film f RIGHT JOIN pagila.language l ON l.language_id = f.language_id WHERE rating = 'R' ORDER BY length LIMIT 10\""
   ]
  },
  {
   "cell_type": "code",
   "execution_count": 58,
   "id": "77e4e1de-4462-4237-8f99-59e90b580bc2",
   "metadata": {},
   "outputs": [
    {
     "name": "stdout",
     "output_type": "stream",
     "text": [
      " username |        address         \n",
      "----------+------------------------\n",
      "          | 1121 Loja Avenue\n",
      "          | 1135 Izumisano Parkway\n",
      "          | 1866 al-Qatif Avenue\n",
      "          | 1895 Zhezqazghan Drive\n",
      "          | 226 Brest Manor\n",
      "          | 533 al-Ayn Boulevard\n",
      "          | 770 Bydgoszcz Avenue\n",
      "          | 793 Cam Ranh Avenue\n",
      "          | 920 Kumbakonam Loop\n",
      "(9 rows)\n",
      "\n"
     ]
    }
   ],
   "source": [
    "#List all the address from California and the username of the person living there if they have one ordered by the address\n",
    "!psql -c \"SELECT username, address FROM pagila.staff s RIGHT JOIN pagila.address a ON a.address_id = s.address_id WHERE district = 'California' ORDER BY address\""
   ]
  },
  {
   "cell_type": "code",
   "execution_count": 71,
   "id": "8c0c154d-801d-42bb-ac43-fc057ff56369",
   "metadata": {},
   "outputs": [
    {
     "name": "stdout",
     "output_type": "stream",
     "text": [
      "      title       |        title         | rating \n",
      "------------------+----------------------+--------\n",
      " ACADEMY DINOSAUR | AGENT TRUMAN         | PG\n",
      " ACADEMY DINOSAUR | ALASKA PHANTOM       | PG\n",
      " ACADEMY DINOSAUR | ALI FOREVER          | PG\n",
      " ACADEMY DINOSAUR | AMADEUS HOLY         | PG\n",
      " ACADEMY DINOSAUR | ARIZONA BANG         | PG\n",
      " ACADEMY DINOSAUR | ARSENIC INDEPENDENCE | PG\n",
      " ACADEMY DINOSAUR | BEDAZZLED MARRIED    | PG\n",
      " ACADEMY DINOSAUR | BEHAVIOR RUNAWAY     | PG\n",
      " ACADEMY DINOSAUR | BILL OTHERS          | PG\n",
      " ACADEMY DINOSAUR | BIRCH ANTITRUST      | PG\n",
      "(10 rows)\n",
      "\n"
     ]
    }
   ],
   "source": [
    "#Retrieve distinct pairs of films with matching ratings, excluding films with the same title, and display the first 10 results ordered by the title of the first film\n",
    "!psql -c \"SELECT a.title, b.title, a.rating FROM pagila.film a JOIN pagila.film b ON a.title <> b.title WHERE a.film_id != b.film_id and a.rating = b.rating ORDER BY a.title LIMIT 10\""
   ]
  }
 ],
 "metadata": {
  "environment": {
   "kernel": "python3",
   "name": "common-cpu.m110",
   "type": "gcloud",
   "uri": "gcr.io/deeplearning-platform-release/base-cpu:m110"
  },
  "kernelspec": {
   "display_name": "Python 3",
   "language": "python",
   "name": "python3"
  },
  "language_info": {
   "codemirror_mode": {
    "name": "ipython",
    "version": 3
   },
   "file_extension": ".py",
   "mimetype": "text/x-python",
   "name": "python",
   "nbconvert_exporter": "python",
   "pygments_lexer": "ipython3",
   "version": "3.10.12"
  }
 },
 "nbformat": 4,
 "nbformat_minor": 5
}
